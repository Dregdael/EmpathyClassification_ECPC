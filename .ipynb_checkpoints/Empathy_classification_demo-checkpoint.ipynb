{
 "cells": [
  {
   "cell_type": "markdown",
   "id": "02d0a22c-4c57-42ec-9fd1-acccab9a2cc7",
   "metadata": {},
   "source": [
    "# DEMO: Empathy classification using a pattern classifier\n",
    "\n",
    "In this notebook, it is possible to use a previously trained contrast-pattern classification algorithm to obtain the empathy level of a conversation between two people. "
   ]
  },
  {
   "cell_type": "code",
   "execution_count": 17,
   "id": "c7d243c2-35f2-4a20-a573-6142fc14b163",
   "metadata": {},
   "outputs": [],
   "source": [
    "import pickle\n",
    "import pandas as pd\n",
    "import torch\n",
    "import os\n",
    "import sys\n",
    "import random \n",
    "#import classifier\n",
    "#from PBC4cip import PBC4cip\n",
    "#from PBC4cip.core.Evaluation import obtainAUCMulticlass\n",
    "#from PBC4cip.core.Helpers import get_col_dist, get_idx_val\n",
    "\n",
    "#utilities for database management\n",
    "import numpy as np\n",
    "import pandas as pd\n",
    "from tqdm import tqdm, trange\n",
    "import os\n",
    "import argparse\n",
    "\n",
    "#import train_classifier as trainer\n",
    "#import test_classifier as tester\n",
    "#import database_processing_package as data_processer\n"
   ]
  },
  {
   "cell_type": "markdown",
   "id": "44d9ab96-e4aa-47e5-b4f4-5face72f158e",
   "metadata": {},
   "source": [
    "First, we will obtain the model and sample conversation prompts"
   ]
  },
  {
   "cell_type": "code",
   "execution_count": 23,
   "id": "74aab462-ebf7-495c-ba30-168b3f718f71",
   "metadata": {},
   "outputs": [
    {
     "name": "stdout",
     "output_type": "stream",
     "text": [
      "/home/haru/EmpathyClassification_ECPC/Experiments/outputs/Experiment 25/trained_pbc4cip.sav\n"
     ]
    },
    {
     "data": {
      "text/plain": [
       "2356"
      ]
     },
     "execution_count": 23,
     "metadata": {},
     "output_type": "execute_result"
    }
   ],
   "source": [
    "current_dir = os.getcwd() #get directory of the repository\n",
    "database_dir = '/processed_databases/EmpatheticExchanges'\n",
    "model_directory = current_dir + '/Experiments/outputs/Experiment '+ str(25) + '/' + 'trained_pbc4cip.sav'\n",
    "\n",
    "print(model_directory)\n",
    "\n",
    "database = pd.read_csv(current_dir + database_dir + '/EmpatheticExchanges.csv')\n",
    "\n",
    "len_of_db = len(database)\n",
    "sample = database.iloc[random.randint(0, len_of_db)]\n",
    "database \n",
    "sample"
   ]
  },
  {
   "cell_type": "code",
   "execution_count": null,
   "id": "963666b4-3915-4a26-b780-b3d98d972397",
   "metadata": {},
   "outputs": [],
   "source": []
  }
 ],
 "metadata": {
  "kernelspec": {
   "display_name": "Python 3 (ipykernel)",
   "language": "python",
   "name": "python3"
  },
  "language_info": {
   "codemirror_mode": {
    "name": "ipython",
    "version": 3
   },
   "file_extension": ".py",
   "mimetype": "text/x-python",
   "name": "python",
   "nbconvert_exporter": "python",
   "pygments_lexer": "ipython3",
   "version": "3.11.5"
  }
 },
 "nbformat": 4,
 "nbformat_minor": 5
}
